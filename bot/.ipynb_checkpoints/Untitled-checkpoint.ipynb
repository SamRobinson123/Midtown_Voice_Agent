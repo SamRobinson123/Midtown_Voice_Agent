{
 "cells": [
  {
   "cell_type": "code",
   "execution_count": 2,
   "id": "fe91e776-5feb-45cd-9d9e-6277bd2fed6a",
   "metadata": {},
   "outputs": [
    {
     "name": "stdout",
     "output_type": "stream",
     "text": [
      "Please visit this URL to authorize this application: https://accounts.google.com/o/oauth2/auth?response_type=code&client_id=735751314240-kkfbba43e19khun0d9e6s8e666pilhc2.apps.googleusercontent.com&redirect_uri=http%3A%2F%2Flocalhost%3A53371%2F&scope=https%3A%2F%2Fwww.googleapis.com%2Fauth%2Fgmail.send&state=4mbpJdzNk61eG7HjFtkRvVDqz61wJ4&access_type=offline\n",
      "✅  Saved gmail_token.json – you can close this window.\n"
     ]
    }
   ],
   "source": [
    "# gmail_oauth_setup.py  ▸ run once to create gmail_token.json\n",
    "from google_auth_oauthlib.flow import InstalledAppFlow\n",
    "from pathlib import Path\n",
    "\n",
    "SCOPES = [\"https://www.googleapis.com/auth/gmail.send\"]\n",
    "\n",
    "flow  = InstalledAppFlow.from_client_secrets_file(\"client_secret.json\", SCOPES)\n",
    "creds = flow.run_local_server(port=0)     # browser opens → choose Gmail → Allow\n",
    "Path(\"gmail_token.json\").write_text(creds.to_json())\n",
    "print(\"✅  Saved gmail_token.json – you can close this window.\")"
   ]
  },
  {
   "cell_type": "code",
   "execution_count": 4,
   "id": "13433890-627b-4bab-be26-0def7f077407",
   "metadata": {},
   "outputs": [
    {
     "ename": "ModuleNotFoundError",
     "evalue": "No module named 'upfh_bot'",
     "output_type": "error",
     "traceback": [
      "\u001b[31m---------------------------------------------------------------------------\u001b[39m",
      "\u001b[31mModuleNotFoundError\u001b[39m                       Traceback (most recent call last)",
      "\u001b[36mCell\u001b[39m\u001b[36m \u001b[39m\u001b[32mIn[4]\u001b[39m\u001b[32m, line 2\u001b[39m\n\u001b[32m      1\u001b[39m \u001b[38;5;66;03m# test_email.py – fires a single “dummy” appointment e-mail\u001b[39;00m\n\u001b[32m----> \u001b[39m\u001b[32m2\u001b[39m \u001b[38;5;28;01mfrom\u001b[39;00m\u001b[38;5;250m \u001b[39m\u001b[34;01mchatbot\u001b[39;00m\u001b[38;5;250m \u001b[39m\u001b[38;5;28;01mimport\u001b[39;00m send_appt_email\n\u001b[32m      4\u001b[39m payload = {\n\u001b[32m      5\u001b[39m     \u001b[33m\"\u001b[39m\u001b[33mpatient_name\u001b[39m\u001b[33m\"\u001b[39m:   \u001b[33m\"\u001b[39m\u001b[33mLocal Test User\u001b[39m\u001b[33m\"\u001b[39m,\n\u001b[32m      6\u001b[39m     \u001b[33m\"\u001b[39m\u001b[33mphone\u001b[39m\u001b[33m\"\u001b[39m:          \u001b[33m\"\u001b[39m\u001b[33m801-555-0199\u001b[39m\u001b[33m\"\u001b[39m,\n\u001b[32m   (...)\u001b[39m\u001b[32m     12\u001b[39m     \u001b[33m\"\u001b[39m\u001b[33mprocedure\u001b[39m\u001b[33m\"\u001b[39m:      \u001b[33m\"\u001b[39m\u001b[33m\"\u001b[39m              \u001b[38;5;66;03m# optional\u001b[39;00m\n\u001b[32m     13\u001b[39m }\n\u001b[32m     15\u001b[39m send_appt_email(payload)\n",
      "\u001b[36mFile \u001b[39m\u001b[32mC:\\GitHub\\UPFH_Chat_Bot\\upfh_bot\\chatbot.py:20\u001b[39m\n\u001b[32m     17\u001b[39m \u001b[38;5;28;01mimport\u001b[39;00m\u001b[38;5;250m \u001b[39m\u001b[34;01mcsv\u001b[39;00m,\u001b[38;5;250m \u001b[39m\u001b[34;01mio\u001b[39;00m,\u001b[38;5;250m \u001b[39m\u001b[34;01mbase64\u001b[39;00m\n\u001b[32m     18\u001b[39m \u001b[38;5;28;01mfrom\u001b[39;00m\u001b[38;5;250m \u001b[39m\u001b[34;01mdatetime\u001b[39;00m\u001b[38;5;250m \u001b[39m\u001b[38;5;28;01mimport\u001b[39;00m datetime\n\u001b[32m---> \u001b[39m\u001b[32m20\u001b[39m \u001b[38;5;28;01mfrom\u001b[39;00m\u001b[38;5;250m \u001b[39m\u001b[34;01mupfh_bot\u001b[39;00m\u001b[34;01m.\u001b[39;00m\u001b[34;01mgmail_send\u001b[39;00m\u001b[38;5;250m \u001b[39m\u001b[38;5;28;01mimport\u001b[39;00m send_gmail\n\u001b[32m     22\u001b[39m \u001b[38;5;66;03m# ── env vars ───────────────────────────────────────────────\u001b[39;00m\n\u001b[32m     23\u001b[39m load_dotenv(dotenv_path=Path(\u001b[34m__file__\u001b[39m).resolve().parent.parent / \u001b[33m\"\u001b[39m\u001b[33m.env\u001b[39m\u001b[33m\"\u001b[39m,\n\u001b[32m     24\u001b[39m             override=\u001b[38;5;28;01mFalse\u001b[39;00m)\n",
      "\u001b[31mModuleNotFoundError\u001b[39m: No module named 'upfh_bot'"
     ]
    }
   ],
   "source": [
    "# test_email.py – fires a single “dummy” appointment e-mail\n",
    "from chatbot import send_appt_email\n",
    "\n",
    "payload = {\n",
    "    \"patient_name\":   \"Local Test User\",\n",
    "    \"phone\":          \"801-555-0199\",\n",
    "    \"email\":          \"your.personal.address+localtest@gmail.com\",\n",
    "    \"preferred_date\": \"2025-07-18\",\n",
    "    \"preferred_time\": \"10:30 AM\",\n",
    "    \"reason\":         \"Flu-like symptoms\",\n",
    "    \"has_insurance\":  False,          # toggle True / False to test both branches\n",
    "    \"procedure\":      \"\"              # optional\n",
    "}\n",
    "\n",
    "send_appt_email(payload)\n",
    "print(\"✅  Function returned without exception.\")"
   ]
  },
  {
   "cell_type": "code",
   "execution_count": null,
   "id": "2cf5d0f3-4a21-452f-aee9-295e64c878a6",
   "metadata": {},
   "outputs": [],
   "source": []
  }
 ],
 "metadata": {
  "kernelspec": {
   "display_name": "Python 3 (ipykernel)",
   "language": "python",
   "name": "python3"
  },
  "language_info": {
   "codemirror_mode": {
    "name": "ipython",
    "version": 3
   },
   "file_extension": ".py",
   "mimetype": "text/x-python",
   "name": "python",
   "nbconvert_exporter": "python",
   "pygments_lexer": "ipython3",
   "version": "3.13.3"
  }
 },
 "nbformat": 4,
 "nbformat_minor": 5
}
