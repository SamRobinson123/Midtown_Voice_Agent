{
 "cells": [
  {
   "cell_type": "code",
   "execution_count": 20,
   "id": "13433890-627b-4bab-be26-0def7f077407",
   "metadata": {},
   "outputs": [],
   "source": [
    "\"\"\"\n",
    "gmail_send.py\n",
    "─────────────\n",
    "Light wrapper around the Gmail API for one-off transactional mail.\n",
    "\n",
    "Usage\n",
    "-----\n",
    "from gmail_send import send_gmail\n",
    "\n",
    "send_gmail(\n",
    "    to_list=[\"patient@example.com\", \"samrobinson290225@gmail.com\"],\n",
    "    subject=\"We’ve received your appointment request – UPFH\",\n",
    "    body=\"Plain-text body here …\",\n",
    "    attachment=(\"appointment_request.csv\", csv_bytes)   # optional\n",
    ")\n",
    "\"\"\"\n",
    "\n",
    "import os\n",
    "import base64\n",
    "import email.message\n",
    "import pathlib\n",
    "from typing import List, Tuple, Optional\n",
    "\n",
    "from google.oauth2.credentials import Credentials\n",
    "from googleapiclient.discovery import build\n",
    "\n",
    "\n",
    "# Location of the refresh-token file (set as a secret file in production)\n",
    "TOKEN_PATH = os.getenv(\"GMAIL_TOKEN_PATH\", \"gmail_token.json\")\n",
    "SCOPES = [\"https://www.googleapis.com/auth/gmail.send\"]\n",
    "\n",
    "\n",
    "def _gmail_service():\n",
    "    \"\"\"Lazy-load a Gmail API service instance.\"\"\"\n",
    "    creds = Credentials.from_authorized_user_file(TOKEN_PATH, SCOPES)\n",
    "    return build(\"gmail\", \"v1\", credentials=creds, cache_discovery=False)\n",
    "\n",
    "\n",
    "def send_gmail(\n",
    "    to_list:   List[str],\n",
    "    subject:   str,\n",
    "    body:      str,\n",
    "    attachment: Optional[Tuple[str, bytes]] = None,\n",
    "    sender:    str = \"Utah Partners for Health <samrobinson290225@gmail.com>\",\n",
    ") -> None:\n",
    "    \"\"\"\n",
    "    Send a plain-text e-mail (optionally with **one** attachment).\n",
    "\n",
    "    Parameters\n",
    "    ----------\n",
    "    to_list      : list[str]        Recipients\n",
    "    subject      : str             Email subject\n",
    "    body         : str             Plain-text body\n",
    "    attachment   : (filename, bytes) or None\n",
    "    sender       : str             \"From\" header (default: UPFH helper)\n",
    "    \"\"\"\n",
    "    # ── 1. Build MIME message ─────────────────────────────────────────────\n",
    "    msg = email.message.EmailMessage()\n",
    "    msg[\"From\"] = sender\n",
    "    msg[\"To\"] = \", \".join(to_list)\n",
    "    msg[\"Subject\"] = subject\n",
    "    msg.set_content(body)\n",
    "\n",
    "    if attachment:\n",
    "        fname, data_bytes = attachment\n",
    "        msg.add_attachment(\n",
    "            data_bytes,\n",
    "            maintype=\"application\", subtype=\"octet-stream\",\n",
    "            filename=fname,\n",
    "        )\n",
    "\n",
    "    # ── 2. Push via Gmail API ─────────────────────────────────────────────\n",
    "    raw = base64.urlsafe_b64encode(msg.as_bytes()).decode()\n",
    "    _gmail_service().users().messages().send(\n",
    "        userId=\"me\", body={\"raw\": raw}\n",
    "    ).execute()"
   ]
  },
  {
   "cell_type": "code",
   "execution_count": 21,
   "id": "2cf5d0f3-4a21-452f-aee9-295e64c878a6",
   "metadata": {},
   "outputs": [
    {
     "name": "stdout",
     "output_type": "stream",
     "text": [
      "✓ sent (no exception)\n"
     ]
    }
   ],
   "source": [
    "from upfh_bot.gmail_send import send_gmail\n",
    "import logging, os\n",
    "\n",
    "# optional: see stack traces if Gmail rejects the token\n",
    "logging.basicConfig(level=os.getenv(\"LOG_LEVEL\", \"INFO\"))\n",
    "\n",
    "send_gmail(\n",
    "    to_list=[\"samrobinson290225@gmail.com\"],\n",
    "    subject=\"Local Jupyter test – UPFH bot\",\n",
    "    body=\"If you see this, OAuth and imports are working. 🎉\"\n",
    ")\n",
    "print(\"✓ sent (no exception)\")"
   ]
  },
  {
   "cell_type": "code",
   "execution_count": null,
   "id": "335d8c03-ac7e-4202-b2b9-dce0ad71dfd6",
   "metadata": {},
   "outputs": [],
   "source": []
  }
 ],
 "metadata": {
  "kernelspec": {
   "display_name": "Python 3 (ipykernel)",
   "language": "python",
   "name": "python3"
  },
  "language_info": {
   "codemirror_mode": {
    "name": "ipython",
    "version": 3
   },
   "file_extension": ".py",
   "mimetype": "text/x-python",
   "name": "python",
   "nbconvert_exporter": "python",
   "pygments_lexer": "ipython3",
   "version": "3.13.3"
  }
 },
 "nbformat": 4,
 "nbformat_minor": 5
}
